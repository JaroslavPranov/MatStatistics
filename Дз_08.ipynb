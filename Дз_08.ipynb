{
  "nbformat": 4,
  "nbformat_minor": 0,
  "metadata": {
    "colab": {
      "name": "Дз_08.ipynb",
      "provenance": [],
      "collapsed_sections": []
    },
    "kernelspec": {
      "name": "python3",
      "display_name": "Python 3"
    },
    "language_info": {
      "name": "python"
    }
  },
  "cells": [
    {
      "cell_type": "markdown",
      "source": [
        "1.Провести дисперсионный анализ для определения того, есть ли различия среднего роста среди взрослых футболистов, хоккеистов и штангистов.\n",
        "(Сделать вывод для альфа 1% и 5%) \n",
        "Даны значения роста в трех группах случайно выбранных спортсменов: \n",
        "Футболисты: 173, 175, 180, 178, 177, 185, 183, 182. \n",
        "Хоккеисты: 177, 179, 180, 188, 177, 172, 171, 184, 180. \n",
        "Штангисты: 172, 173, 169, 177, 166, 180, 178, 177, 172, 166, 170."
      ],
      "metadata": {
        "id": "lI_BawaOmgyW"
      }
    },
    {
      "cell_type": "code",
      "execution_count": 27,
      "metadata": {
        "id": "hPoz4V7ymZCG"
      },
      "outputs": [],
      "source": [
        "import numpy as np\n",
        "from scipy import stats"
      ]
    },
    {
      "cell_type": "markdown",
      "source": [
        "Рассмотрим количественный признак — рост взрослых спортсменов (в см). Количество человек в каждой группе: футболисты — 8, хоккеисты — 9,\n",
        "штангисты — 11."
      ],
      "metadata": {
        "id": "OunrfpMUnPnV"
      }
    },
    {
      "cell_type": "code",
      "source": [
        "n1 = 8\n",
        "n2 = 9\n",
        "n3 = 11\n",
        "n = n1 + n2 + n3\n",
        "print(n)"
      ],
      "metadata": {
        "colab": {
          "base_uri": "https://localhost:8080/"
        },
        "id": "1aOsUWkum14p",
        "outputId": "119273c3-9bcd-4424-b788-0aefae41a885"
      },
      "execution_count": 28,
      "outputs": [
        {
          "output_type": "stream",
          "name": "stdout",
          "text": [
            "28\n"
          ]
        }
      ]
    },
    {
      "cell_type": "markdown",
      "source": [
        "Всего три группы:"
      ],
      "metadata": {
        "id": "Be591gK8os2I"
      }
    },
    {
      "cell_type": "code",
      "source": [
        "k = 3"
      ],
      "metadata": {
        "id": "rTEe7tA8oHDj"
      },
      "execution_count": 29,
      "outputs": []
    },
    {
      "cell_type": "markdown",
      "source": [
        "Рост футболистов:"
      ],
      "metadata": {
        "id": "b2s3SeJ2o5ZJ"
      }
    },
    {
      "cell_type": "code",
      "source": [
        "y1 = np.array([173, 175, 180, 178, 177, 185, 183, 182], dtype=np.float64)\n",
        "y1"
      ],
      "metadata": {
        "colab": {
          "base_uri": "https://localhost:8080/"
        },
        "id": "gA7eXLfao4WZ",
        "outputId": "058e95ab-04ae-42bb-8272-7a8336e23863"
      },
      "execution_count": 30,
      "outputs": [
        {
          "output_type": "execute_result",
          "data": {
            "text/plain": [
              "array([173., 175., 180., 178., 177., 185., 183., 182.])"
            ]
          },
          "metadata": {},
          "execution_count": 30
        }
      ]
    },
    {
      "cell_type": "markdown",
      "source": [
        "Рост хоккеистов:"
      ],
      "metadata": {
        "id": "owCFoIGJpp3D"
      }
    },
    {
      "cell_type": "code",
      "source": [
        "y2 = np.array([177, 179, 180, 188, 177, 172, 171, 184, 180], dtype=np.float64)"
      ],
      "metadata": {
        "id": "_g36pS_Kpwmr"
      },
      "execution_count": 31,
      "outputs": []
    },
    {
      "cell_type": "markdown",
      "source": [
        "Рост штангистов:"
      ],
      "metadata": {
        "id": "mJctQ4qUqB9t"
      }
    },
    {
      "cell_type": "code",
      "source": [
        "y3 = np.array([172, 173, 169, 177, 166, 180, 178, 177, 172, 166, 170], dtype=np.float64)"
      ],
      "metadata": {
        "id": "R7pyfy3KqHsJ"
      },
      "execution_count": 32,
      "outputs": []
    },
    {
      "cell_type": "markdown",
      "source": [
        "Проведем однофакторный дисперсионный анализ. Сначала найдем средние значение роста спортсменов для каждой спортивной дисциплине:"
      ],
      "metadata": {
        "id": "eWhRZ-kzqedy"
      }
    },
    {
      "cell_type": "code",
      "source": [
        "y1_mean = np.mean(y1)\n",
        "print(y1_mean)"
      ],
      "metadata": {
        "colab": {
          "base_uri": "https://localhost:8080/"
        },
        "id": "azy5JfxVq_KP",
        "outputId": "1a07f83c-ab73-46d8-d468-9bccb373224e"
      },
      "execution_count": 33,
      "outputs": [
        {
          "output_type": "stream",
          "name": "stdout",
          "text": [
            "179.125\n"
          ]
        }
      ]
    },
    {
      "cell_type": "code",
      "source": [
        "y2_mean = np.mean(y2)\n",
        "print(y2_mean)"
      ],
      "metadata": {
        "colab": {
          "base_uri": "https://localhost:8080/"
        },
        "id": "_FmhdS7drGa5",
        "outputId": "bca98133-193a-46a1-d20f-f531efbb0b5d"
      },
      "execution_count": 34,
      "outputs": [
        {
          "output_type": "stream",
          "name": "stdout",
          "text": [
            "178.66666666666666\n"
          ]
        }
      ]
    },
    {
      "cell_type": "code",
      "source": [
        "y3_mean = np.mean(y3)\n",
        "print(y3_mean)"
      ],
      "metadata": {
        "colab": {
          "base_uri": "https://localhost:8080/"
        },
        "id": "GITT6M1rrHx7",
        "outputId": "9ba1de27-bcf8-46a3-c4af-72d803ed1d6e"
      },
      "execution_count": 35,
      "outputs": [
        {
          "output_type": "stream",
          "name": "stdout",
          "text": [
            "172.72727272727272\n"
          ]
        }
      ]
    },
    {
      "cell_type": "markdown",
      "source": [
        "Видно, что средние значение роста разнятся. Установим, что это отличие статистически значимо. Для этого сначала соберем\n",
        "\n",
        "все значения роста спортсменов в один массив:"
      ],
      "metadata": {
        "id": "BxVWnYEKrgMa"
      }
    },
    {
      "cell_type": "code",
      "source": [
        "y_all = np.concatenate([y1, y2, y3])\n",
        "y_all"
      ],
      "metadata": {
        "colab": {
          "base_uri": "https://localhost:8080/"
        },
        "id": "lWIsQGZ-rtt5",
        "outputId": "34c2ccc1-1b9e-42b6-fef8-5f06311637f7"
      },
      "execution_count": 36,
      "outputs": [
        {
          "output_type": "execute_result",
          "data": {
            "text/plain": [
              "array([173., 175., 180., 178., 177., 185., 183., 182., 177., 179., 180.,\n",
              "       188., 177., 172., 171., 184., 180., 172., 173., 169., 177., 166.,\n",
              "       180., 178., 177., 172., 166., 170.])"
            ]
          },
          "metadata": {},
          "execution_count": 36
        }
      ]
    },
    {
      "cell_type": "markdown",
      "source": [
        "Найдем среднее значение роста спорсменов по всем значениям:"
      ],
      "metadata": {
        "id": "MXVV1X17sFiF"
      }
    },
    {
      "cell_type": "code",
      "source": [
        "y_mean = np.mean(y_all)\n",
        "print(y_mean)"
      ],
      "metadata": {
        "colab": {
          "base_uri": "https://localhost:8080/"
        },
        "id": "BPL7T2DvsOZR",
        "outputId": "25f2aeff-8998-4f41-e72c-fd502175e5fe"
      },
      "execution_count": 37,
      "outputs": [
        {
          "output_type": "stream",
          "name": "stdout",
          "text": [
            "176.46428571428572\n"
          ]
        }
      ]
    },
    {
      "cell_type": "markdown",
      "source": [
        "Найдем  S2  — сумму квадратов отклонений наблюдений от общего среднего:"
      ],
      "metadata": {
        "id": "UWoDqtxftHgv"
      }
    },
    {
      "cell_type": "code",
      "source": [
        "s2 = np.sum((y_all - y_mean)**2)\n",
        "s2"
      ],
      "metadata": {
        "colab": {
          "base_uri": "https://localhost:8080/"
        },
        "id": "9hkexzhDtLb9",
        "outputId": "03ff3fd7-e819-4deb-e9f0-884052e6e90b"
      },
      "execution_count": 38,
      "outputs": [
        {
          "output_type": "execute_result",
          "data": {
            "text/plain": [
              "830.9642857142854"
            ]
          },
          "metadata": {},
          "execution_count": 38
        }
      ]
    },
    {
      "cell_type": "code",
      "source": [
        "#Найдем S2F - сумму квадратов отклонений средних групповых значений от общего среднего:"
      ],
      "metadata": {
        "id": "XLFvyDIgtZWm"
      },
      "execution_count": 41,
      "outputs": []
    },
    {
      "cell_type": "code",
      "source": [
        "s2_f = ((y1_mean - y_mean)**2) * n1 + ((y2_mean - y_mean)**2) * n2 + ((y3_mean - y_mean)**2) * n3\n",
        "s2_f"
      ],
      "metadata": {
        "colab": {
          "base_uri": "https://localhost:8080/"
        },
        "id": "Uwy0kPVftbkG",
        "outputId": "02afb75b-1fde-403c-84f1-432522a8e947"
      },
      "execution_count": 42,
      "outputs": [
        {
          "output_type": "execute_result",
          "data": {
            "text/plain": [
              "253.9074675324678"
            ]
          },
          "metadata": {},
          "execution_count": 42
        }
      ]
    },
    {
      "cell_type": "markdown",
      "source": [
        "Найдем  S2ост  — остаточную сумму квадратов отклонений:"
      ],
      "metadata": {
        "id": "F6T8zek5tuf4"
      }
    },
    {
      "cell_type": "code",
      "source": [
        "s2_residual = s2 - s2_f\n",
        "s2_residual"
      ],
      "metadata": {
        "colab": {
          "base_uri": "https://localhost:8080/"
        },
        "id": "1ur-IZQotwkL",
        "outputId": "2ce87da4-4858-4b0e-de5d-925269924e50"
      },
      "execution_count": 44,
      "outputs": [
        {
          "output_type": "execute_result",
          "data": {
            "text/plain": [
              "577.0568181818177"
            ]
          },
          "metadata": {},
          "execution_count": 44
        }
      ]
    },
    {
      "cell_type": "markdown",
      "source": [
        "Удостоверимся, что соблюдается равенство  S2=S2F+S2ост :"
      ],
      "metadata": {
        "id": "GAjtLp2SuAaN"
      }
    },
    {
      "cell_type": "code",
      "source": [
        "print(s2)\n",
        "print(s2_f + s2_residual)"
      ],
      "metadata": {
        "colab": {
          "base_uri": "https://localhost:8080/"
        },
        "id": "sCj_Flx1uCKu",
        "outputId": "d6db5971-ac86-4e04-d5ff-9a34b38d6dd8"
      },
      "execution_count": 45,
      "outputs": [
        {
          "output_type": "stream",
          "name": "stdout",
          "text": [
            "830.9642857142854\n",
            "830.9642857142854\n"
          ]
        }
      ]
    },
    {
      "cell_type": "markdown",
      "source": [
        "Найдем общую дисперсию:"
      ],
      "metadata": {
        "id": "dFbDwgDCuKYA"
      }
    },
    {
      "cell_type": "code",
      "source": [
        "sigma2_general = s2 / (n - 1)\n",
        "sigma2_general"
      ],
      "metadata": {
        "colab": {
          "base_uri": "https://localhost:8080/"
        },
        "id": "0LawLRtUuQKZ",
        "outputId": "cc16dd80-9546-4ce8-c1a0-d6c5d43f66ec"
      },
      "execution_count": 46,
      "outputs": [
        {
          "output_type": "execute_result",
          "data": {
            "text/plain": [
              "30.776455026455015"
            ]
          },
          "metadata": {},
          "execution_count": 46
        }
      ]
    },
    {
      "cell_type": "markdown",
      "source": [
        "Найдем факторную дисперсию:"
      ],
      "metadata": {
        "id": "xWQTxRe7uXL6"
      }
    },
    {
      "cell_type": "code",
      "source": [
        "sigma2_f = s2_f / (k - 1)\n",
        "sigma2_f"
      ],
      "metadata": {
        "colab": {
          "base_uri": "https://localhost:8080/"
        },
        "id": "W43vy2eauiU6",
        "outputId": "8f8d2594-078f-4a84-9dfd-d9c2f8d5b10f"
      },
      "execution_count": 47,
      "outputs": [
        {
          "output_type": "execute_result",
          "data": {
            "text/plain": [
              "126.9537337662339"
            ]
          },
          "metadata": {},
          "execution_count": 47
        }
      ]
    },
    {
      "cell_type": "markdown",
      "source": [
        "Найдем остаточную дисперсию:"
      ],
      "metadata": {
        "id": "8pStuUqkusji"
      }
    },
    {
      "cell_type": "code",
      "source": [
        "sigma2_residual = s2_residual / (n - k)\n",
        "sigma2_residual"
      ],
      "metadata": {
        "colab": {
          "base_uri": "https://localhost:8080/"
        },
        "id": "5Ch3tguquvD1",
        "outputId": "9a554447-e43e-4caa-dda4-69c3c86985e8"
      },
      "execution_count": 48,
      "outputs": [
        {
          "output_type": "execute_result",
          "data": {
            "text/plain": [
              "23.082272727272706"
            ]
          },
          "metadata": {},
          "execution_count": 48
        }
      ]
    },
    {
      "cell_type": "markdown",
      "source": [
        "Вычислим  FH :"
      ],
      "metadata": {
        "id": "DrSw_-CDu0Rc"
      }
    },
    {
      "cell_type": "code",
      "source": [
        "F_h = sigma2_f / sigma2_residual\n",
        "F_h"
      ],
      "metadata": {
        "colab": {
          "base_uri": "https://localhost:8080/"
        },
        "id": "oxwFSqngu8P5",
        "outputId": "026c672b-e46a-4ed6-871a-5bb84a08899b"
      },
      "execution_count": 49,
      "outputs": [
        {
          "output_type": "execute_result",
          "data": {
            "text/plain": [
              "5.5000534508126036"
            ]
          },
          "metadata": {},
          "execution_count": 49
        }
      ]
    },
    {
      "cell_type": "markdown",
      "source": [
        "F_критическое по таблице Ф.С. для a = 0.05 = 3,38; для a = 0.01 = 5,57 "
      ],
      "metadata": {
        "id": "W3odKYVh61Uq"
      }
    },
    {
      "cell_type": "code",
      "source": [
        "# 3.38 < 5.50 < 5.57"
      ],
      "metadata": {
        "id": "x6lEu2Lg7yqO"
      },
      "execution_count": 51,
      "outputs": []
    },
    {
      "cell_type": "code",
      "source": [
        "stats.f_oneway(y1, y2, y3)"
      ],
      "metadata": {
        "colab": {
          "base_uri": "https://localhost:8080/"
        },
        "id": "vYRgslte8qpk",
        "outputId": "8b887ab1-368b-41e8-9f58-b231d49fe2b7"
      },
      "execution_count": 52,
      "outputs": [
        {
          "output_type": "execute_result",
          "data": {
            "text/plain": [
              "F_onewayResult(statistic=5.500053450812596, pvalue=0.010482206918698694)"
            ]
          },
          "metadata": {},
          "execution_count": 52
        }
      ]
    },
    {
      "cell_type": "markdown",
      "source": [
        "При 5% альфа Нулевая гипотеза верна и рост спортсменов не влияет на выбранный ими вид спорта, но при альфа = 1% верна альтернативная гипотеза."
      ],
      "metadata": {
        "id": "8NhNn-E99nWV"
      }
    }
  ]
}