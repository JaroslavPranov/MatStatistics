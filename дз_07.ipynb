{
  "nbformat": 4,
  "nbformat_minor": 0,
  "metadata": {
    "colab": {
      "name": "дз_07.ipynb",
      "provenance": [],
      "collapsed_sections": []
    },
    "kernelspec": {
      "name": "python3",
      "display_name": "Python 3"
    },
    "language_info": {
      "name": "python"
    }
  },
  "cells": [
    {
      "cell_type": "markdown",
      "metadata": {
        "id": "wQQpc75Dtp8G"
      },
      "source": [
        "1.Даны значения величины заработной платы заемщиков банка (zp) и значения их поведенческого кредитного скоринга \n",
        "(ks): zp = [35, 45, 190, 200, 40, 70, 54, 150, 120, 110], ks = [401, 574, 874, 919, 459, 739, 653, 902, 746, 832]. \n",
        "Используя математические операции, посчитать коэффициенты линейной регрессии, приняв за X заработную плату \n",
        "(то есть, zp - признак), а за y - значения скорингового балла (то есть, ks - целевая переменная).\n",
        "Произвести расчет как с использованием intercept, так и без."
      ]
    },
    {
      "cell_type": "code",
      "metadata": {
        "id": "vRKXdj-DtOcc"
      },
      "source": [
        "import numpy as np"
      ],
      "execution_count": null,
      "outputs": []
    },
    {
      "cell_type": "code",
      "metadata": {
        "colab": {
          "base_uri": "https://localhost:8080/"
        },
        "id": "VGkTpE0DtgiH",
        "outputId": "d8cc8a13-193e-4812-d188-10e471e1fb62"
      },
      "source": [
        "X = np.array([35, 45, 190, 200, 40, 70, 54, 150, 120, 110])\n",
        "X"
      ],
      "execution_count": null,
      "outputs": [
        {
          "output_type": "execute_result",
          "data": {
            "text/plain": [
              "array([ 35,  45, 190, 200,  40,  70,  54, 150, 120, 110])"
            ]
          },
          "metadata": {},
          "execution_count": 54
        }
      ]
    },
    {
      "cell_type": "code",
      "metadata": {
        "colab": {
          "base_uri": "https://localhost:8080/"
        },
        "id": "Tm5rWi59t9NO",
        "outputId": "cbc6869e-50d5-4645-addd-9fd902874ccc"
      },
      "source": [
        "y = np.array([401, 574, 874, 919, 459, 739, 653, 902, 746, 832])\n",
        "y"
      ],
      "execution_count": null,
      "outputs": [
        {
          "output_type": "execute_result",
          "data": {
            "text/plain": [
              "array([401, 574, 874, 919, 459, 739, 653, 902, 746, 832])"
            ]
          },
          "metadata": {},
          "execution_count": 55
        }
      ]
    },
    {
      "cell_type": "code",
      "metadata": {
        "colab": {
          "base_uri": "https://localhost:8080/"
        },
        "id": "obs1PRpawgoc",
        "outputId": "979e2d30-987e-4a21-ee9e-a1e8a267c483"
      },
      "source": [
        "n = len(X)\n",
        "n"
      ],
      "execution_count": null,
      "outputs": [
        {
          "output_type": "execute_result",
          "data": {
            "text/plain": [
              "10"
            ]
          },
          "metadata": {},
          "execution_count": 56
        }
      ]
    },
    {
      "cell_type": "code",
      "metadata": {
        "colab": {
          "base_uri": "https://localhost:8080/"
        },
        "id": "bZRSioUiymSX",
        "outputId": "ea2904cf-7db0-4698-99bc-1eba2b139c70"
      },
      "source": [
        "b = (np.mean(X*y)-np.mean(X)*np.mean(y))/(np.mean(X**2)-np.mean(X)**2)\n",
        "b"
      ],
      "execution_count": null,
      "outputs": [
        {
          "output_type": "execute_result",
          "data": {
            "text/plain": [
              "2.620538882402765"
            ]
          },
          "metadata": {},
          "execution_count": 57
        }
      ]
    },
    {
      "cell_type": "code",
      "metadata": {
        "colab": {
          "base_uri": "https://localhost:8080/"
        },
        "id": "4pU0GeUW0JJQ",
        "outputId": "27afaeb2-dbdf-4add-d88d-4c598adb1dc6"
      },
      "source": [
        "a = np.mean(y) - b * np.mean(X)\n",
        "a"
      ],
      "execution_count": null,
      "outputs": [
        {
          "output_type": "execute_result",
          "data": {
            "text/plain": [
              "444.1773573243596"
            ]
          },
          "metadata": {},
          "execution_count": 58
        }
      ]
    },
    {
      "cell_type": "markdown",
      "metadata": {
        "id": "09i_M8qz3FXd"
      },
      "source": [
        "без интерсепта"
      ]
    },
    {
      "cell_type": "code",
      "metadata": {
        "colab": {
          "base_uri": "https://localhost:8080/"
        },
        "id": "HnBJL6jB3LJm",
        "outputId": "10840783-33c8-4fa7-8ee4-654fd370ce2f"
      },
      "source": [
        "X = X.reshape((10, 1))\n",
        "X"
      ],
      "execution_count": null,
      "outputs": [
        {
          "output_type": "execute_result",
          "data": {
            "text/plain": [
              "array([[ 35],\n",
              "       [ 45],\n",
              "       [190],\n",
              "       [200],\n",
              "       [ 40],\n",
              "       [ 70],\n",
              "       [ 54],\n",
              "       [150],\n",
              "       [120],\n",
              "       [110]])"
            ]
          },
          "metadata": {},
          "execution_count": 59
        }
      ]
    },
    {
      "cell_type": "markdown",
      "metadata": {
        "id": "yh49XREy4BPf"
      },
      "source": [
        "y = y.reshape((10, 1))\n",
        "y"
      ]
    },
    {
      "cell_type": "code",
      "metadata": {
        "colab": {
          "base_uri": "https://localhost:8080/"
        },
        "id": "-uKMKarj8uxN",
        "outputId": "869486c5-837a-4e1d-a06e-ed06de7155ea"
      },
      "source": [
        "B = np.dot(np.linalg.inv(np.dot(X.T, X)), X.T @ y)\n",
        "B"
      ],
      "execution_count": null,
      "outputs": [
        {
          "output_type": "execute_result",
          "data": {
            "text/plain": [
              "array([5.88982042])"
            ]
          },
          "metadata": {},
          "execution_count": 60
        }
      ]
    },
    {
      "cell_type": "markdown",
      "metadata": {
        "id": "qzohgij_ATcL"
      },
      "source": [
        "с интерсептом (матричный метод)"
      ]
    },
    {
      "cell_type": "code",
      "metadata": {
        "colab": {
          "base_uri": "https://localhost:8080/"
        },
        "id": "Rt4JkCP3Aesx",
        "outputId": "7b70804b-96b4-429d-c15d-b40226739191"
      },
      "source": [
        "X = np.hstack([np.ones((10,1)), X])\n",
        "X"
      ],
      "execution_count": null,
      "outputs": [
        {
          "output_type": "execute_result",
          "data": {
            "text/plain": [
              "array([[  1.,  35.],\n",
              "       [  1.,  45.],\n",
              "       [  1., 190.],\n",
              "       [  1., 200.],\n",
              "       [  1.,  40.],\n",
              "       [  1.,  70.],\n",
              "       [  1.,  54.],\n",
              "       [  1., 150.],\n",
              "       [  1., 120.],\n",
              "       [  1., 110.]])"
            ]
          },
          "metadata": {},
          "execution_count": 61
        }
      ]
    },
    {
      "cell_type": "code",
      "metadata": {
        "colab": {
          "base_uri": "https://localhost:8080/"
        },
        "id": "Z_kFfc_RBQkq",
        "outputId": "6c3fb564-3cbe-41d9-8ed7-6c647c32ac7c"
      },
      "source": [
        "B = np.dot(np.linalg.inv(np.dot(X.T, X)), X.T @ y)\n",
        "B"
      ],
      "execution_count": null,
      "outputs": [
        {
          "output_type": "execute_result",
          "data": {
            "text/plain": [
              "array([444.17735732,   2.62053888])"
            ]
          },
          "metadata": {},
          "execution_count": 62
        }
      ]
    },
    {
      "cell_type": "markdown",
      "metadata": {
        "id": "5aul5Hsj2NvC"
      },
      "source": [
        "2. Посчитать коэффициент линейной регрессии при заработной плате (zp), используя градиентный спуск (без intercept)."
      ]
    },
    {
      "cell_type": "code",
      "metadata": {
        "colab": {
          "base_uri": "https://localhost:8080/"
        },
        "id": "8gSWmkKNBdGW",
        "outputId": "efd4218e-56df-4b35-8a81-e816db701bc6"
      },
      "source": [
        "X = np.array([35, 45, 190, 200, 40, 70, 54, 150, 120, 110])\n",
        "X"
      ],
      "execution_count": null,
      "outputs": [
        {
          "output_type": "execute_result",
          "data": {
            "text/plain": [
              "array([ 35,  45, 190, 200,  40,  70,  54, 150, 120, 110])"
            ]
          },
          "metadata": {},
          "execution_count": 63
        }
      ]
    },
    {
      "cell_type": "code",
      "metadata": {
        "colab": {
          "base_uri": "https://localhost:8080/"
        },
        "id": "Tl57HZFADgV9",
        "outputId": "d821904b-8b0f-410a-ee89-d425fcbf4a28"
      },
      "source": [
        "y = np.array([401, 574, 874, 919, 459, 739, 653, 902, 746, 832])\n",
        "y"
      ],
      "execution_count": null,
      "outputs": [
        {
          "output_type": "execute_result",
          "data": {
            "text/plain": [
              "array([401, 574, 874, 919, 459, 739, 653, 902, 746, 832])"
            ]
          },
          "metadata": {},
          "execution_count": 64
        }
      ]
    },
    {
      "cell_type": "code",
      "metadata": {
        "id": "ejLldxHUE3XW"
      },
      "source": [
        "def mse_(B1, y=y, X=X, n=10):\n",
        "  return np.sum((B1 * X - y) ** 2) / n"
      ],
      "execution_count": null,
      "outputs": []
    },
    {
      "cell_type": "code",
      "metadata": {
        "id": "zLSLg6mNHR0i"
      },
      "source": [
        "B1 = 0.1"
      ],
      "execution_count": null,
      "outputs": []
    },
    {
      "cell_type": "code",
      "metadata": {
        "colab": {
          "base_uri": "https://localhost:8080/"
        },
        "id": "-nQJc1tsE-Ai",
        "outputId": "0b2b738d-1a48-446f-f56d-068332c0776a"
      },
      "source": [
        "alpha = 1e-6\n",
        "alpha"
      ],
      "execution_count": null,
      "outputs": [
        {
          "output_type": "execute_result",
          "data": {
            "text/plain": [
              "1e-06"
            ]
          },
          "metadata": {},
          "execution_count": 67
        }
      ]
    },
    {
      "cell_type": "code",
      "metadata": {
        "colab": {
          "base_uri": "https://localhost:8080/"
        },
        "id": "WvoVFTJpHWFX",
        "outputId": "9a0578b9-3315-463c-8fab-47535779e5c7"
      },
      "source": [
        "for i in range (10000):\n",
        "  B1 -= alpha * (2 / n) * np.sum((B1 * X - y) * X)\n",
        "  if i % 5000 == 0:\n",
        "    print ('Iteration: {i}, B1 = {B1}, mse = {mse}'.format(i = i, B1 = B1, mse = mse_(B1)))"
      ],
      "execution_count": null,
      "outputs": [
        {
          "output_type": "stream",
          "name": "stdout",
          "text": [
            "Iteration: 0, B1 = 0.25952808, mse = 493237.7212546963\n",
            "Iteration: 5000, B1 = 5.889820420132673, mse = 56516.85841571943\n"
          ]
        }
      ]
    },
    {
      "cell_type": "markdown",
      "metadata": {
        "id": "Fumy9Y8pJTVg"
      },
      "source": [
        "*3. Произвести вычисления как в пункте 2, но с вычислением intercept. Учесть, что изменение коэффициентов должно производиться\n",
        "на каждом шаге одновременно (то есть изменение одного коэффициента не должно влиять на изменение другого во время одной итерации)."
      ]
    },
    {
      "cell_type": "code",
      "metadata": {
        "colab": {
          "base_uri": "https://localhost:8080/"
        },
        "id": "f1619-9pJU9J",
        "outputId": "544370ae-5169-4598-a597-de1c9869db6c"
      },
      "source": [
        "X = np.array([35, 45, 190, 200, 40, 70, 54, 150, 120, 110])\n",
        "X"
      ],
      "execution_count": null,
      "outputs": [
        {
          "output_type": "execute_result",
          "data": {
            "text/plain": [
              "array([ 35,  45, 190, 200,  40,  70,  54, 150, 120, 110])"
            ]
          },
          "metadata": {},
          "execution_count": 69
        }
      ]
    },
    {
      "cell_type": "code",
      "metadata": {
        "colab": {
          "base_uri": "https://localhost:8080/"
        },
        "id": "FX6rSL0VJg_H",
        "outputId": "37fe8820-512f-4f79-a216-4960104fa0f1"
      },
      "source": [
        "y = np.array([401, 574, 874, 919, 459, 739, 653, 902, 746, 832])\n",
        "y"
      ],
      "execution_count": null,
      "outputs": [
        {
          "output_type": "execute_result",
          "data": {
            "text/plain": [
              "array([401, 574, 874, 919, 459, 739, 653, 902, 746, 832])"
            ]
          },
          "metadata": {},
          "execution_count": 70
        }
      ]
    },
    {
      "cell_type": "code",
      "metadata": {
        "id": "Uqn-t_sSJs-M"
      },
      "source": [
        "B0 = 0.1"
      ],
      "execution_count": null,
      "outputs": []
    },
    {
      "cell_type": "code",
      "metadata": {
        "id": "-XseLgyJJuEn"
      },
      "source": [
        "B1 = 0.1"
      ],
      "execution_count": null,
      "outputs": []
    },
    {
      "cell_type": "code",
      "metadata": {
        "id": "bv7hHaQiLTHb"
      },
      "source": [
        "def mse_(B0, B1, y=y, X=X, n=10):\n",
        "  return np.sum((B0 + B1 * X - y) ** 2) / n"
      ],
      "execution_count": null,
      "outputs": []
    },
    {
      "cell_type": "code",
      "metadata": {
        "colab": {
          "base_uri": "https://localhost:8080/"
        },
        "id": "jM9a56qzLjMi",
        "outputId": "767135a7-d4e7-4a5b-c2bc-6a74bc9e910f"
      },
      "source": [
        "alpha = 5e-5\n",
        "alpha"
      ],
      "execution_count": null,
      "outputs": [
        {
          "output_type": "execute_result",
          "data": {
            "text/plain": [
              "5e-05"
            ]
          },
          "metadata": {},
          "execution_count": 77
        }
      ]
    },
    {
      "cell_type": "code",
      "metadata": {
        "colab": {
          "base_uri": "https://localhost:8080/"
        },
        "id": "FEjwB_t2Lj5P",
        "outputId": "a831017c-05f5-4949-b97f-c13b254568d7"
      },
      "source": [
        "for i in range (750000):\n",
        "  B0 -= alpha * (2 / n) * np.sum((B0 * X - y))\n",
        "  B1 -= alpha * (2 / n) * np.sum((B1 * X - y) * X)\n",
        "  if i % 30000 == 0:\n",
        "    print ('Iteration: {i}, B0 = {B0}, B1 = {B1}, mse = {mse}'.format(i = i, B0 = B0, B1 = B1, mse = mse_(B0, B1)))"
      ],
      "execution_count": null,
      "outputs": [
        {
          "output_type": "stream",
          "name": "stdout",
          "text": [
            "Iteration: 0, B0 = 7.000986193291719, B1 = 5.889820420132694, mse = 54988.23905866428\n",
            "Iteration: 30000, B0 = 7.000986193293842, B1 = 5.889820420132689, mse = 54988.239058663836\n",
            "Iteration: 60000, B0 = 7.000986193293842, B1 = 5.889820420132689, mse = 54988.239058663836\n",
            "Iteration: 90000, B0 = 7.000986193293842, B1 = 5.889820420132689, mse = 54988.239058663836\n",
            "Iteration: 120000, B0 = 7.000986193293842, B1 = 5.889820420132689, mse = 54988.239058663836\n",
            "Iteration: 150000, B0 = 7.000986193293842, B1 = 5.889820420132689, mse = 54988.239058663836\n",
            "Iteration: 180000, B0 = 7.000986193293842, B1 = 5.889820420132689, mse = 54988.239058663836\n",
            "Iteration: 210000, B0 = 7.000986193293842, B1 = 5.889820420132689, mse = 54988.239058663836\n",
            "Iteration: 240000, B0 = 7.000986193293842, B1 = 5.889820420132689, mse = 54988.239058663836\n",
            "Iteration: 270000, B0 = 7.000986193293842, B1 = 5.889820420132689, mse = 54988.239058663836\n",
            "Iteration: 300000, B0 = 7.000986193293842, B1 = 5.889820420132689, mse = 54988.239058663836\n",
            "Iteration: 330000, B0 = 7.000986193293842, B1 = 5.889820420132689, mse = 54988.239058663836\n",
            "Iteration: 360000, B0 = 7.000986193293842, B1 = 5.889820420132689, mse = 54988.239058663836\n",
            "Iteration: 390000, B0 = 7.000986193293842, B1 = 5.889820420132689, mse = 54988.239058663836\n",
            "Iteration: 420000, B0 = 7.000986193293842, B1 = 5.889820420132689, mse = 54988.239058663836\n",
            "Iteration: 450000, B0 = 7.000986193293842, B1 = 5.889820420132689, mse = 54988.239058663836\n",
            "Iteration: 480000, B0 = 7.000986193293842, B1 = 5.889820420132689, mse = 54988.239058663836\n",
            "Iteration: 510000, B0 = 7.000986193293842, B1 = 5.889820420132689, mse = 54988.239058663836\n",
            "Iteration: 540000, B0 = 7.000986193293842, B1 = 5.889820420132689, mse = 54988.239058663836\n",
            "Iteration: 570000, B0 = 7.000986193293842, B1 = 5.889820420132689, mse = 54988.239058663836\n",
            "Iteration: 600000, B0 = 7.000986193293842, B1 = 5.889820420132689, mse = 54988.239058663836\n",
            "Iteration: 630000, B0 = 7.000986193293842, B1 = 5.889820420132689, mse = 54988.239058663836\n",
            "Iteration: 660000, B0 = 7.000986193293842, B1 = 5.889820420132689, mse = 54988.239058663836\n",
            "Iteration: 690000, B0 = 7.000986193293842, B1 = 5.889820420132689, mse = 54988.239058663836\n",
            "Iteration: 720000, B0 = 7.000986193293842, B1 = 5.889820420132689, mse = 54988.239058663836\n"
          ]
        }
      ]
    }
  ]
}